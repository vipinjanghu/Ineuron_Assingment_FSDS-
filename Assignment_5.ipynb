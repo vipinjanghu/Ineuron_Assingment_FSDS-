{
  "nbformat": 4,
  "nbformat_minor": 0,
  "metadata": {
    "colab": {
      "provenance": []
    },
    "kernelspec": {
      "name": "python3",
      "display_name": "Python 3"
    },
    "language_info": {
      "name": "python"
    }
  },
  "cells": [
    {
      "cell_type": "markdown",
      "source": [
        "1. What does an empty dictionary&#39;s code look like?\n",
        "\n",
        "Answer-:a={}\n"
      ],
      "metadata": {
        "id": "9Rqqnmy9oWwQ"
      }
    },
    {
      "cell_type": "markdown",
      "source": [
        "2. What is the value of a dictionary value with the key &#39;foo&#39; and the value 42?\n",
        "\n",
        "Answer-: a={'foo':42}\n",
        "\n",
        "        a['foo']=42"
      ],
      "metadata": {
        "id": "QPfz9cYfoo-H"
      }
    },
    {
      "cell_type": "markdown",
      "source": [
        "3. What is the most significant distinction between a dictionary and a list?\n",
        "\n",
        "Answer-:The modt significant distinction between a dictionary and a list is dictionary is key value pair while list only contain values.While we can initialize a dictionary by {} and list by []."
      ],
      "metadata": {
        "id": "O1IFb_1io9Cm"
      }
    },
    {
      "cell_type": "markdown",
      "source": [
        "4. What happens if you try to access spam[&#39;foo&#39;] if spam is {&#39;bar&#39;: 100}?\n",
        "\n",
        "Answer-: It will give us key error because there is no key value 'foo' inside the spam dictionary"
      ],
      "metadata": {
        "id": "QOiQrAjQpxw3"
      }
    },
    {
      "cell_type": "markdown",
      "source": [
        "5. If a dictionary is stored in spam, what is the difference between the expressions &#39;cat&#39; in spam and\n",
        "&#39;cat&#39; in spam.keys()?\n",
        "\n",
        "\n",
        "Answer-:'cat' in spam expression it is going to search for the specific key in the dictionary which is 'cat' while spam.keys() will give us list of all the keys available in the dictionary spam."
      ],
      "metadata": {
        "id": "syZvI2chqKde"
      }
    },
    {
      "cell_type": "markdown",
      "source": [
        "6. If a dictionary is stored in spam, what is the difference between the expressions &#39;cat&#39; in spam and\n",
        "&#39;cat&#39; in spam.values()?\n",
        "\n",
        "\n",
        "Answer-:'cat' in spam expression it is going to search for the specific key in the dictionary which is 'cat'while spam.values() will give us the list of all the values available in the dictionary spam."
      ],
      "metadata": {
        "id": "zgz1EpxBrSRz"
      }
    },
    {
      "cell_type": "markdown",
      "source": [
        "7. What is a shortcut for the following code?\n",
        "if &#39;color&#39; not in spam:\n",
        "spam[&#39;color&#39;] = &#39;black&#39;\n",
        "\n",
        "\n",
        "Answer-:spam.setdefault('color','black')"
      ],
      "metadata": {
        "id": "HwgvtlqirmJF"
      }
    },
    {
      "cell_type": "markdown",
      "source": [
        "8. How do you &quot;pretty print&quot; dictionary values using which module and function?\n",
        "\n",
        "Answer-:pprint is the module.And pprint.pprint() and pprint.pformat() are the functions"
      ],
      "metadata": {
        "id": "6jn83JrasC4k"
      }
    }
  ]
}
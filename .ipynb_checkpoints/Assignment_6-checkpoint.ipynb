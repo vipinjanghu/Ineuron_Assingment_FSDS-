{
 "cells": [
  {
   "cell_type": "markdown",
   "id": "5d4ccdb2",
   "metadata": {},
   "source": [
    "1. What are escape characters, and how do you use them?\n",
    "\n",
    "Answer-:To insert illigal characters into string we use escape characters .Backslash(\\)is escape character in python.\n",
    "        e.g-print(\"Hello world\") we want to print both words in different lines then we will use \\n before world\n",
    "        print(\"Hello \\n world\")"
   ]
  },
  {
   "cell_type": "markdown",
   "id": "c8d903e1",
   "metadata": {},
   "source": [
    "2. What do the escape characters n and t stand for?\n",
    "\n",
    "Answer-: escape character n means new line and t mean a space of tab size(space of 4 characters)"
   ]
  },
  {
   "cell_type": "markdown",
   "id": "eb56fbd8",
   "metadata": {},
   "source": [
    "3. What is the way to include backslash characters in a string?\n",
    "\n",
    "Answer-:If we want to include backslash then we are going to use double backslash inseed of one backslash.e.g-\"hello \\\\world\""
   ]
  },
  {
   "cell_type": "markdown",
   "id": "e1520870",
   "metadata": {},
   "source": [
    "4. The string \"Howl's Moving Castle\" is a correct value. Why isn't the single quote character in the\n",
    "word Howl's not escaped a problem?\n",
    "\n",
    "Answer-:Because the string is defined using double quotes."
   ]
  },
  {
   "cell_type": "markdown",
   "id": "b7fa41dc",
   "metadata": {},
   "source": [
    "5. How do you write a string of newlines if you don't want to use the n character?\n",
    "\n",
    "Answer-: We will use triple quotes insteed of\\n."
   ]
  },
  {
   "cell_type": "markdown",
   "id": "4a4ed664",
   "metadata": {},
   "source": [
    "6. What are the values of the given expressions?\n",
    "\n",
    "answer-:'Hello, world'[1]='e',\n",
    "        'Hello, world'[0:5]='Hello',\n",
    "        'Hello, world'[:5]='Hello',\n",
    "        'Hello, world'[3:]='lo, world'"
   ]
  },
  {
   "cell_type": "markdown",
   "id": "233fd8ee",
   "metadata": {},
   "source": [
    "7. What are the values of the following expressions?\n",
    "\n",
    "\n",
    "Answer-:'Hello'.upper()='HELLO',\n",
    "        'Hello'.upper().isupper()=True,\n",
    "        'Hello'.upper().lower()='hello'"
   ]
  },
  {
   "cell_type": "markdown",
   "id": "07ec1759",
   "metadata": {},
   "source": [
    "8. What are the values of the following expressions?\n"
   ]
  },
  {
   "cell_type": "code",
   "execution_count": 13,
   "id": "ed729483",
   "metadata": {},
   "outputs": [
    {
     "data": {
      "text/plain": [
       "['Remember,', 'remember,', 'the', 'fifth', 'of', 'July']"
      ]
     },
     "execution_count": 13,
     "metadata": {},
     "output_type": "execute_result"
    }
   ],
   "source": [
    "'Remember, remember, the fifth of July'.split()"
   ]
  },
  {
   "cell_type": "code",
   "execution_count": 14,
   "id": "414c9387",
   "metadata": {},
   "outputs": [
    {
     "data": {
      "text/plain": [
       "'There-can-only-one.'"
      ]
     },
     "execution_count": 14,
     "metadata": {},
     "output_type": "execute_result"
    }
   ],
   "source": [
    "'-'.join('There can only one.'.split())"
   ]
  },
  {
   "cell_type": "markdown",
   "id": "4423f6db",
   "metadata": {},
   "source": [
    "9. What are the methods for right-justifying, left-justifying, and centering a string?\n",
    "\n",
    "Answer-: rjust(),ljust(),center()"
   ]
  },
  {
   "cell_type": "markdown",
   "id": "9cdad189",
   "metadata": {},
   "source": [
    "10. What is the best way to remove whitespace characters from the start or end?\n",
    "\n",
    "Answer-:lstrip(),rstrip(),strip()"
   ]
  }
 ],
 "metadata": {
  "kernelspec": {
   "display_name": "Python 3 (ipykernel)",
   "language": "python",
   "name": "python3"
  },
  "language_info": {
   "codemirror_mode": {
    "name": "ipython",
    "version": 3
   },
   "file_extension": ".py",
   "mimetype": "text/x-python",
   "name": "python",
   "nbconvert_exporter": "python",
   "pygments_lexer": "ipython3",
   "version": "3.9.12"
  }
 },
 "nbformat": 4,
 "nbformat_minor": 5
}

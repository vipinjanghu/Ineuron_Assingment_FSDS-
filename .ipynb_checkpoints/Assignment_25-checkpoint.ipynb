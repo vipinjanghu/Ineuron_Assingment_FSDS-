{
 "cells": [
  {
   "cell_type": "markdown",
   "id": "dc29fa02",
   "metadata": {},
   "source": [
    "### 1. What is the difference between enclosing a list comprehension in square brackets and parentheses?"
   ]
  },
  {
   "cell_type": "markdown",
   "id": "d8e6f0bf",
   "metadata": {},
   "source": [
    "* List Comprehension with square brackets produces list.\n",
    "* List Comprehension with parentheses creates generators\n",
    "     "
   ]
  },
  {
   "cell_type": "markdown",
   "id": "2f0c5a80",
   "metadata": {},
   "source": [
    "### 2) What is the relationship between generators and iterators?"
   ]
  },
  {
   "cell_type": "markdown",
   "id": "58ed76a3",
   "metadata": {},
   "source": [
    "Ans. An iterator is an object which contains a countable number of values and it is used to iterate over iterable objects like list, tuples etc\n",
    "Using an iterator- iter() keyword is used to create an iterator containing an iterable object. next() keyword is used to call the next element in the iterable object.\n",
    "\n",
    "Generator\n",
    "It is another way of creating iterators in a simple way where it uses the keyword “yield” instead of returning it in a defined function Generators are implemented using a function Here, the yield function returns the data without affecting or exiting the function. It will return a sequence of data in an iterable format where we need to iterate over the sequence to use the data as they won’t store the entire sequence in the memory By using next() function we can iterate the output of generator function"
   ]
  },
  {
   "cell_type": "markdown",
   "id": "806f55e7",
   "metadata": {},
   "source": [
    "### 3) What are the signs that a function is a generator function?"
   ]
  },
  {
   "cell_type": "markdown",
   "id": "7ec1a343",
   "metadata": {},
   "source": [
    "* The function uses the \"yield\" keyword instead of \"return\".\n",
    "* The function can be iterated over using a \"for\" loop, or using the built-in \"next()\" function"
   ]
  },
  {
   "cell_type": "markdown",
   "id": "7bcf69a7",
   "metadata": {},
   "source": [
    "### 4) What is the purpose of a yield statement?"
   ]
  },
  {
   "cell_type": "markdown",
   "id": "b6c98395",
   "metadata": {},
   "source": [
    "The yield statement in a function is used to create a generator function. It is used to return a generator object that can be iterated over to produce a series of values. When a function with a yield statement is called, it does not execute the function body immediately, instead it returns a generator object. The code inside the function is executed each time the next method of the generator is called. The value of the expression following the yield statement is returned as the result of each next call, until the function raises a StopIteration exception to signal the end of the iteration."
   ]
  },
  {
   "cell_type": "markdown",
   "id": "0156f905",
   "metadata": {},
   "source": [
    "### 5) What is the relationship between map calls and list comprehensions? Make a comparison and contrast between the two."
   ]
  },
  {
   "cell_type": "markdown",
   "id": "f430eb0d",
   "metadata": {},
   "source": [
    "* Map function:\n",
    "Suppose we have a function and we want to compute this function for different values in a single line of code . This is where map() function plays its role. map() function returns a map object(which is an iterator) of the results after applying the given function to each item of a given iterable (list, tuple etc.)\n",
    "\n",
    "* If we already have a function defined, it is often good to use map For example, map(sum, myLists) is more neat than [sum(x) for x in myLists]. You gain the elegance of not having to make up a dummy variable (e.g. sum(x) for x... or sum(_) for _... or sum(readableName) for readableName...) which you have to type twice, just to iterate.\n",
    "\n",
    "* List Comprehension:\n",
    "\n",
    "* List Comprehension is a substitute for the lambda function, map(), filter() and reduce()\n",
    "\n",
    "Comparision :\n",
    "* List comprehension is more concise and easier to read as compared to map\n",
    "* List comprehension allows filtering. In map, we have no such facility\n",
    "* For example, to print all even numbers in range of 100, we can write [n for n in range(100) if n%2 == 0]. There is no alternate for it in map 3. List comprehension are used when a list of results is required, where as map only returns a map object and does not return any list. 4. List comprehension is faster than map when we need to evaluate expressions that are too long or complicated to express 5. Map is faster in case of calling an already defined function (as no lambda is required)"
   ]
  }
 ],
 "metadata": {
  "kernelspec": {
   "display_name": "Python 3 (ipykernel)",
   "language": "python",
   "name": "python3"
  },
  "language_info": {
   "codemirror_mode": {
    "name": "ipython",
    "version": 3
   },
   "file_extension": ".py",
   "mimetype": "text/x-python",
   "name": "python",
   "nbconvert_exporter": "python",
   "pygments_lexer": "ipython3",
   "version": "3.9.12"
  }
 },
 "nbformat": 4,
 "nbformat_minor": 5
}

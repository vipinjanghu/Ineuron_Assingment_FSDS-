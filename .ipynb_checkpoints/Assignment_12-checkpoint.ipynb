{
 "cells": [
  {
   "cell_type": "markdown",
   "id": "f0cfd40b",
   "metadata": {},
   "source": [
    "### 1. In what modes should the PdfFileReader() and PdfFileWriter() File objects will be opened?"
   ]
  },
  {
   "cell_type": "markdown",
   "id": "02f831d7",
   "metadata": {},
   "source": [
    "Read-binary ('rb') for PdfFileReader() and write-binary ('wb') for PdfFileWriter()"
   ]
  },
  {
   "cell_type": "markdown",
   "id": "a8d5a0c5",
   "metadata": {},
   "source": [
    "### 2. From a PdfFileReader object, how do you get a Page object for page 5?\n",
    "Calling getPage(4) will return a Page object for About this Book, since page 0 is the first page."
   ]
  },
  {
   "cell_type": "markdown",
   "id": "58fb93f6",
   "metadata": {},
   "source": [
    "### 3. What PdfFileReader variable stores the number of pages in the PDF document?\n",
    "The numPages variable stores an integer of the number of pages in the PdfFileReader object"
   ]
  },
  {
   "cell_type": "markdown",
   "id": "ee925fbf",
   "metadata": {},
   "source": [
    "### 4. If a PdfFileReader object’s PDF is encrypted with the password swordfish, what must you do before you can obtain Page objects from it?\n",
    "Call decrypt('swordfish')"
   ]
  },
  {
   "cell_type": "markdown",
   "id": "19128fb5",
   "metadata": {},
   "source": [
    "### 5. What methods do you use to rotate a page?\n",
    "page.rotateClockwise(90)"
   ]
  },
  {
   "cell_type": "markdown",
   "id": "8946bf49",
   "metadata": {},
   "source": [
    "### 6. What is the difference between a Run object and a Paragraph object?\n",
    "A document contains multiple paragraphs. A paragraph begins on a new line and contains multiple runs. Runs are contiguous groups of characters within the a paragraph."
   ]
  },
  {
   "cell_type": "markdown",
   "id": "39d0a23c",
   "metadata": {},
   "source": [
    "### 7. How do you obtain a list of Paragraph objects for a Document object that’s stored in a variable named doc?\n",
    "doc.paragraphs"
   ]
  },
  {
   "cell_type": "markdown",
   "id": "7d3814a4",
   "metadata": {},
   "source": [
    "### 8. What type of object has bold, underline, italic, strike, and outline variables?\n",
    "A Run object has bold, underline,italic,strike and outline variables"
   ]
  },
  {
   "cell_type": "markdown",
   "id": "23e2fb78",
   "metadata": {},
   "source": [
    "### 9. What is the difference between False, True, and None for the bold variable?\n",
    "Runs can be further styled using text attributes. Each attribute can be set to one of three values:\n",
    "* True (the attribute is always enabled, no matter what other styles are applied to the run),\n",
    "* False (the attribute is always disabled),\n",
    "* None (defaults to whatever the run’s style is set to)\n",
    "\n",
    "True always makes the Run object bolded and False makes it always not bolded, no matter what the style’s bold setting is. None will make the Run object just use the style’s bold setting"
   ]
  },
  {
   "cell_type": "markdown",
   "id": "81719a10",
   "metadata": {},
   "source": [
    "### 10. How do you create a Document object for a new Word document?\n",
    "from docx import Document\n",
    "doc = Document()"
   ]
  },
  {
   "cell_type": "markdown",
   "id": "820003c9",
   "metadata": {},
   "source": [
    "### 11. How do you add a paragraph with the text &#39;Hello, there!&#39; to a Document object stored in a variable named doc?\n",
    "\n",
    "para = doc.add_paragraph('Hello, there!')"
   ]
  },
  {
   "cell_type": "markdown",
   "id": "a40cbcaa",
   "metadata": {},
   "source": [
    "### 12. What integers represent the levels of headings available in Word documents?\n",
    "The integers that represent the levels of headings in Word documents can vary depending on the specific document, but a common convention is to use the numbers 1 to 9."
   ]
  }
 ],
 "metadata": {
  "kernelspec": {
   "display_name": "Python 3 (ipykernel)",
   "language": "python",
   "name": "python3"
  },
  "language_info": {
   "codemirror_mode": {
    "name": "ipython",
    "version": 3
   },
   "file_extension": ".py",
   "mimetype": "text/x-python",
   "name": "python",
   "nbconvert_exporter": "python",
   "pygments_lexer": "ipython3",
   "version": "3.9.12"
  }
 },
 "nbformat": 4,
 "nbformat_minor": 5
}

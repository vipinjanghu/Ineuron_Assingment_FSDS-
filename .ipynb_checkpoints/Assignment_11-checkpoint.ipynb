{
 "cells": [
  {
   "cell_type": "markdown",
   "id": "e6181c7a",
   "metadata": {},
   "source": [
    "#### 1. Create an assert statement that throws an AssertionError if the variable spam is a negative integer."
   ]
  },
  {
   "cell_type": "code",
   "execution_count": 5,
   "id": "6d0cb356",
   "metadata": {},
   "outputs": [
    {
     "ename": "AssertionError",
     "evalue": "Error: spam is a negative integer.",
     "output_type": "error",
     "traceback": [
      "\u001b[1;31m---------------------------------------------------------------------------\u001b[0m",
      "\u001b[1;31mAssertionError\u001b[0m                            Traceback (most recent call last)",
      "Input \u001b[1;32mIn [5]\u001b[0m, in \u001b[0;36m<cell line: 3>\u001b[1;34m()\u001b[0m\n\u001b[0;32m      1\u001b[0m spam\u001b[38;5;241m=\u001b[39m\u001b[38;5;241m-\u001b[39m\u001b[38;5;241m1\u001b[39m\n\u001b[1;32m----> 3\u001b[0m \u001b[38;5;28;01massert\u001b[39;00m spam\u001b[38;5;241m>\u001b[39m\u001b[38;5;241m0\u001b[39m , \u001b[38;5;124m\"\u001b[39m\u001b[38;5;124mError: spam is a negative integer.\u001b[39m\u001b[38;5;124m\"\u001b[39m\n",
      "\u001b[1;31mAssertionError\u001b[0m: Error: spam is a negative integer."
     ]
    }
   ],
   "source": [
    "spam=-1\n",
    "\n",
    "assert spam>0 , \"Error: spam is a negative integer.\""
   ]
  },
  {
   "cell_type": "markdown",
   "id": "2d4dd1d6",
   "metadata": {},
   "source": [
    "### 2. Write an assert statement that triggers an AssertionError if the variables eggs and bacon contain\n",
    "strings that are the same as each other, even if their cases are different (that is,hello and hello are\n",
    "considered the same, and goodbye and GOODbye are also considered the same)."
   ]
  },
  {
   "cell_type": "code",
   "execution_count": 6,
   "id": "b30bb248",
   "metadata": {},
   "outputs": [
    {
     "ename": "AssertionError",
     "evalue": "Error: eggs and bacon contain the same string.",
     "output_type": "error",
     "traceback": [
      "\u001b[1;31m---------------------------------------------------------------------------\u001b[0m",
      "\u001b[1;31mAssertionError\u001b[0m                            Traceback (most recent call last)",
      "Input \u001b[1;32mIn [6]\u001b[0m, in \u001b[0;36m<cell line: 3>\u001b[1;34m()\u001b[0m\n\u001b[0;32m      1\u001b[0m eggs \u001b[38;5;241m=\u001b[39m \u001b[38;5;124m\"\u001b[39m\u001b[38;5;124mhello\u001b[39m\u001b[38;5;124m\"\u001b[39m\n\u001b[0;32m      2\u001b[0m bacon \u001b[38;5;241m=\u001b[39m \u001b[38;5;124m\"\u001b[39m\u001b[38;5;124mHELLO\u001b[39m\u001b[38;5;124m\"\u001b[39m\n\u001b[1;32m----> 3\u001b[0m \u001b[38;5;28;01massert\u001b[39;00m eggs\u001b[38;5;241m.\u001b[39mlower() \u001b[38;5;241m!=\u001b[39m bacon\u001b[38;5;241m.\u001b[39mlower(), \u001b[38;5;124m\"\u001b[39m\u001b[38;5;124mError: eggs and bacon contain the same string.\u001b[39m\u001b[38;5;124m\"\u001b[39m\n",
      "\u001b[1;31mAssertionError\u001b[0m: Error: eggs and bacon contain the same string."
     ]
    }
   ],
   "source": [
    "eggs = \"hello\"\n",
    "bacon = \"HELLO\"\n",
    "assert eggs.lower() != bacon.lower(), \"Error: eggs and bacon contain the same string.\""
   ]
  },
  {
   "cell_type": "markdown",
   "id": "ef75548c",
   "metadata": {},
   "source": [
    "### 3. Create an assert statement that throws an AssertionError every time."
   ]
  },
  {
   "cell_type": "code",
   "execution_count": 8,
   "id": "3fc0a530",
   "metadata": {},
   "outputs": [
    {
     "ename": "AssertionError",
     "evalue": "Error: This assert statement always triggers an AssertionError.",
     "output_type": "error",
     "traceback": [
      "\u001b[1;31m---------------------------------------------------------------------------\u001b[0m",
      "\u001b[1;31mAssertionError\u001b[0m                            Traceback (most recent call last)",
      "Input \u001b[1;32mIn [8]\u001b[0m, in \u001b[0;36m<cell line: 1>\u001b[1;34m()\u001b[0m\n\u001b[1;32m----> 1\u001b[0m \u001b[38;5;28;01massert\u001b[39;00m \u001b[38;5;28;01mFalse\u001b[39;00m, \u001b[38;5;124m\"\u001b[39m\u001b[38;5;124mError: This assert statement always triggers an AssertionError.\u001b[39m\u001b[38;5;124m\"\u001b[39m\n",
      "\u001b[1;31mAssertionError\u001b[0m: Error: This assert statement always triggers an AssertionError."
     ]
    }
   ],
   "source": [
    "assert False, \"Error: This assert statement always triggers an AssertionError.\""
   ]
  },
  {
   "cell_type": "markdown",
   "id": "21b46b78",
   "metadata": {},
   "source": [
    "### 4. What are the two lines that must be present in your software in order to call logging.debug()?"
   ]
  },
  {
   "cell_type": "code",
   "execution_count": 9,
   "id": "15b54f62",
   "metadata": {},
   "outputs": [],
   "source": [
    "import logging\n",
    "logging.basicConfig(level=logging.DEBUG)"
   ]
  },
  {
   "cell_type": "markdown",
   "id": "df2a79e2",
   "metadata": {},
   "source": [
    "### 5. What are the two lines that your program must have in order to have logging.debug() send alogging message to a file named programLog.txt?"
   ]
  },
  {
   "cell_type": "code",
   "execution_count": 10,
   "id": "d2e52f2c",
   "metadata": {},
   "outputs": [],
   "source": [
    "import logging\n",
    "logging.basicConfig(filename='programLog.txt', level=logging.DEBUG, filemode='w', format='%(asctime)s - %(levelname)s - %(message)s')"
   ]
  },
  {
   "cell_type": "markdown",
   "id": "880fe0fa",
   "metadata": {},
   "source": [
    "### 6. What are the five levels of logging?\n",
    "* Debug=10\n",
    "* Info=20\n",
    "* Warning=30\n",
    "* Error=40\n",
    "* Crirical=50"
   ]
  },
  {
   "cell_type": "markdown",
   "id": "f9deb804",
   "metadata": {},
   "source": [
    "### 7. What line of code would you add to your software to disable all logging messages?"
   ]
  },
  {
   "cell_type": "code",
   "execution_count": 13,
   "id": "326a36d9",
   "metadata": {},
   "outputs": [],
   "source": [
    "logging.disable(logging.CRITICAL)\n",
    "'''This sets the logging level to CRITICAL, which is the highest logging level,\n",
    "    and effectively disables all logging messages lower than CRITICAL. Any logging \n",
    "    calls to levels such as DEBUG, INFO, WARNING, or ERROR will not produce any output.'''"
   ]
  },
  {
   "cell_type": "markdown",
   "id": "ffc58a12",
   "metadata": {},
   "source": [
    "### 8.Why is using logging messages better than using print() to display the same message?"
   ]
  },
  {
   "cell_type": "markdown",
   "id": "2a53b74f",
   "metadata": {},
   "source": [
    "There are sevral reason to use logging insteed of print().\n",
    "* Logging messages are typically written to a log file, which can be stored for later analysis. This allows us to track the behavior of or  program over time, even if we don't have access to the console output.\n",
    "* while print() statements are used for both debugging and printing to the console. By using logging messages,we can separate debugging information from other output, making it easier to understand what is happening in our program.\n",
    "*  The logging module provides several levels of messages (e.g., DEBUG, INFO, WARNING, ERROR, etc.) that we can use to categorize and filter our log messages. This allows us to easily control the level of detail that we want to see in our logs."
   ]
  },
  {
   "cell_type": "markdown",
   "id": "92c43110",
   "metadata": {},
   "source": [
    "### 9. What are the differences between the Step Over, Step In, and Step Out buttons in the debugger?\n"
   ]
  },
  {
   "cell_type": "markdown",
   "id": "aefc0524",
   "metadata": {},
   "source": [
    "The Step Over, Step In, and Step Out buttons in a debugger control the execution flow of our code during debugging. These buttons allow us to step through our code one line at a time, inspecting variables and evaluating expressions as we go.\n",
    "\n",
    "* Step Over: The Step Over button allows us to execute the current line of code and move to the next line, without entering any function calls on the current line. This is useful when we want to quickly move to the next line of code without entering into any function calls that might slow down the debugging process.\n",
    "\n",
    "* Step In: The Step In button allows us to enter into a function call on the current line of code. This is useful when we want to inspect the behavior of a specific function.\n",
    "\n",
    "* Step Out: The Step Out button allows us to step out of the current function and return to the caller of the function. This is useful when we have finished debugging a function and want to return to the caller to continue debuggin"
   ]
  },
  {
   "cell_type": "markdown",
   "id": "2c9177aa",
   "metadata": {},
   "source": [
    "### 10.After you click Continue, when will the debugger stop ?\n",
    "after we click Continue, the debugger will stop at the next breakpoint or unhandled exception, allowing us to inspect the state of our code and determine what caused the error or where the issue lies."
   ]
  },
  {
   "cell_type": "markdown",
   "id": "1c1cb6e3",
   "metadata": {},
   "source": [
    "### 11. What is the concept of a breakpoint?\n",
    "A breakpoint is a marker in our code that we set to indicate where the debugger should stop and allow us to inspect variables, evaluate expressions, and step through our code. It is a way to pause the execution of our code at a specific location, so we can examine the values of variables, check the flow of control, and determine what is causing a problem."
   ]
  }
 ],
 "metadata": {
  "kernelspec": {
   "display_name": "Python 3 (ipykernel)",
   "language": "python",
   "name": "python3"
  },
  "language_info": {
   "codemirror_mode": {
    "name": "ipython",
    "version": 3
   },
   "file_extension": ".py",
   "mimetype": "text/x-python",
   "name": "python",
   "nbconvert_exporter": "python",
   "pygments_lexer": "ipython3",
   "version": "3.9.12"
  }
 },
 "nbformat": 4,
 "nbformat_minor": 5
}

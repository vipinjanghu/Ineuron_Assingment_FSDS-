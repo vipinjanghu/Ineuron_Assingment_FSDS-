{
 "cells": [
  {
   "cell_type": "raw",
   "id": "9a9240d6",
   "metadata": {},
   "source": [
    "1. What exactly is []?\n",
    "\n",
    "Answer-:Its a empty list."
   ]
  },
  {
   "cell_type": "raw",
   "id": "c64eb6d2",
   "metadata": {},
   "source": [
    "2. In a list of values stored in a variable called spam, how would you assign the value 'hello' as the\n",
    "third value? (Assume [2, 4, 6, 8, 10] are in spam.)\n",
    "\n",
    "Answer-:spam.insert(2,'hello')\n",
    "        or \n",
    "        spam[2]='hello'"
   ]
  },
  {
   "cell_type": "markdown",
   "id": "e8318a67",
   "metadata": {},
   "source": [
    "### lets pretend that spam includes the list ['a','b','c','d'] for the next three quries"
   ]
  },
  {
   "cell_type": "raw",
   "id": "5adfd29d",
   "metadata": {},
   "source": [
    "3. What is the value of spam[int(int('3'* 2) / 11)]?\n",
    "\n",
    "Answer-: 'd'"
   ]
  },
  {
   "cell_type": "raw",
   "id": "33894866",
   "metadata": {},
   "source": [
    "4. What is the value of spam[-1]?\n",
    "\n",
    "Answer-: 'd'"
   ]
  },
  {
   "cell_type": "raw",
   "id": "3c9ae2c9",
   "metadata": {},
   "source": [
    "5. What is the value of spam[:2]?\n",
    "\n",
    "Answer-:['a','b']"
   ]
  },
  {
   "cell_type": "markdown",
   "id": "0348ba4b",
   "metadata": {},
   "source": [
    "### lets pretend that bacon includes the list [3.14,'cat',11,'cat',True] for the next three quries"
   ]
  },
  {
   "cell_type": "raw",
   "id": "ffa4c46b",
   "metadata": {},
   "source": [
    "6. What is the value of bacon.index('cat')?\n",
    "\n",
    "Answer-: 1.index() will return first index of a value."
   ]
  },
  {
   "cell_type": "raw",
   "id": "56000f01",
   "metadata": {},
   "source": [
    "7. How does bacon.append(99) change the look of the list value in bacon?\n",
    "\n",
    "Answer-:bacon.append(99) will add 99 in the last of the bacon list also it will change the length of the list because \n",
    "        we are adding one element inside the list."
   ]
  },
  {
   "cell_type": "raw",
   "id": "fa00e322",
   "metadata": {},
   "source": [
    "8. How does bacon.remove('cat') change the look of the list in bacon?\n",
    "\n",
    "Answer-:It will remove the first occurance of 'cat' also the lenght of bacon list will decrease by one."
   ]
  },
  {
   "cell_type": "raw",
   "id": "b4a909b0",
   "metadata": {},
   "source": [
    "9. What are the list concatenation and list replication operators?\n",
    "\n",
    "Answer-:list concatenation(+) is used when we want elements of two or more lists in one list \n",
    "        e.g a=[1,2,3]\n",
    "            b=[6,4,5]\n",
    "            c=a+b\n",
    "            it will return c as [1,2,3,6,4,5]\n",
    "        where list replication means we want to create the duplicates of elements of list .\n",
    "        e.g a=[1,2,3,4]\n",
    "            d=a*2\n",
    "            it will return d as [1,2,3,4,1,2,3,4]"
   ]
  },
  {
   "cell_type": "raw",
   "id": "c3885350",
   "metadata": {},
   "source": [
    "10. What is difference between the list methods append() and insert()?\n",
    "\n",
    "Answer-: append() method of a list add the element in the last of the list while insert() will add an element at a specific              index."
   ]
  },
  {
   "cell_type": "raw",
   "id": "dfcbf473",
   "metadata": {},
   "source": [
    "11. What are the two methods for removing items from a list?\n",
    "\n",
    "Answer-: remove() will delete first occurance of that item and \n",
    "         pop() will delete an element based on index value and clear() will remove all the elements of a list."
   ]
  },
  {
   "cell_type": "raw",
   "id": "d4d4647e",
   "metadata": {},
   "source": [
    "12. Describe how list values and string values are identical.\n",
    "\n",
    "Answer-:Both lists and strings can be passed to len(), have indexes and slices, be used in for loops, \n",
    "        be concatenated or replicated, and be used with the in and not in operators."
   ]
  },
  {
   "cell_type": "raw",
   "id": "963dd7aa",
   "metadata": {},
   "source": [
    "13. What's the difference between tuples and lists?\n",
    "\n",
    "Answer-: tuples are immutable and written using parentheses (),while lists are mutable and written using close bracket []."
   ]
  },
  {
   "cell_type": "raw",
   "id": "3337cd88",
   "metadata": {},
   "source": [
    "14. How do you type a tuple value that only contains the integer 42?\n",
    "\n",
    "Answer-: a=(42)"
   ]
  },
  {
   "cell_type": "raw",
   "id": "a940b525",
   "metadata": {},
   "source": [
    "15. How do you get a list value's tuple form? How do you get a tuple value's list form?\n",
    "\n",
    "Answer-:tuple() and list() respectivly."
   ]
  },
  {
   "cell_type": "raw",
   "id": "764771cd",
   "metadata": {},
   "source": [
    "16. Variables that \"contains\" list values are not necessarily lists themselves. Instead, what do they\n",
    "contain?\n",
    "\n",
    "Answer-:They contain references to list values."
   ]
  },
  {
   "cell_type": "raw",
   "id": "25972b4a",
   "metadata": {},
   "source": [
    "17. How do you distinguish between copy.copy() and copy.deepcopy()?\n",
    "\n",
    "Answer-:The copy.copy() function will do a shallow copy of a list, \n",
    "        while the copy.deepcopy() function will do a deep copy of a list.\n",
    "        That is, only copy.deepcopy() will duplicate any lists inside the list."
   ]
  }
 ],
 "metadata": {
  "kernelspec": {
   "display_name": "Python 3 (ipykernel)",
   "language": "python",
   "name": "python3"
  },
  "language_info": {
   "codemirror_mode": {
    "name": "ipython",
    "version": 3
   },
   "file_extension": ".py",
   "mimetype": "text/x-python",
   "name": "python",
   "nbconvert_exporter": "python",
   "pygments_lexer": "ipython3",
   "version": "3.9.12"
  }
 },
 "nbformat": 4,
 "nbformat_minor": 5
}

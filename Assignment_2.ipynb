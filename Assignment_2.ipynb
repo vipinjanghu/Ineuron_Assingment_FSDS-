{
 "cells": [
  {
   "cell_type": "markdown",
   "id": "f86b299f",
   "metadata": {},
   "source": [
    "1.What are the two values of the Boolean data type? How do you write them?\n",
    "\n",
    "Answer-: There are two type of Boolean values which are True and False.\n",
    "         When a specific condition is true in an expression it is True e.g. a=1,a==1 it will return True and When a specific            condition is wrong then it is False e.g.a=6,a==4 it will return False. "
   ]
  },
  {
   "cell_type": "markdown",
   "id": "14ad45f3",
   "metadata": {},
   "source": [
    "2. What are the three different types of Boolean operators?\n",
    "\n",
    "Answer-:Comparison operators- are used to comparing values and evaluate down to a single Boolean value of either True or False.e.g.==,!=,>,<,<=,>=\n",
    "\n",
    "        Logical Operators-and, or and not are also referred to as Boolean operators. and and or require 2 operands and are thus         called binary operators.eg.and,or,not\n",
    "        \n",
    "        "
   ]
  },
  {
   "cell_type": "markdown",
   "id": "1c9bd772",
   "metadata": {},
   "source": [
    "3. Make a list of each Boolean operators truth tables (i.e. every possible combination of Booleanvalues for the operator and what it evaluate ).\n",
    "\n",
    "Answer-:Truth Table for and Operation:\n",
    "        X\t    Y\t    X and Y\n",
    "        False\tFalse\tFalse\n",
    "        True\tFalse\tFalse\n",
    "        False\tTrue\tFalse\n",
    "        True\tTrue\tTrue\n",
    "        \n",
    "       Truth Table for or Operation:\n",
    "        X\t    Y\t    X or Y\n",
    "        False\tFalse\tFalse\n",
    "        True\tFalse\tTrue\n",
    "        False\tTrue\tTrue\n",
    "        True\tTrue\tTrue\n",
    "        \n",
    "        Truth Table for not Operation:\n",
    "        X\t    not X\n",
    "        True\tFalse\n",
    "        False\tTrue"
   ]
  },
  {
   "cell_type": "markdown",
   "id": "faaa9a44",
   "metadata": {},
   "source": [
    "4. What are the values of the following expressions?\n",
    "\n",
    "Answer-:(5 > 4) and (3 == 5)=False\n",
    "        not (5 > 4)         =False\n",
    "        (5 > 4) or (3 == 5) =True\n",
    "        (True and True) and (True == False)=False\n",
    "        (not False) or (not True)=True"
   ]
  },
  {
   "cell_type": "markdown",
   "id": "2217f43b",
   "metadata": {},
   "source": [
    "5. What are the six comparison operators?\n",
    "\n",
    "Answer-:==, Equal e.g.1==1 return True,4==5 return False\n",
    "        !=, Not Equal e.g. 1!=2 return True,1!=1 return False\n",
    "        <, Less then e.g. 2<4 return True,2<1 return False\n",
    "        >, Greater then e.g.4>1 return True,2>5 return False\n",
    "        <=,less then equal to e.g. 1<=1 return True,1<=2 return True\n",
    "        >=Greater then equal to 2>=2 return True,2>=1 return True"
   ]
  },
  {
   "cell_type": "markdown",
   "id": "437a1552",
   "metadata": {},
   "source": [
    "6. How do you tell the difference between the equal to and assignment operators?Describe a\n",
    "condition and when you would use one.\n",
    "\n",
    "Answer-: Equal to (==) is use to compare the two expression while Assignment operator(=) is use to assign a value to a variable          E.g.4==6 is equal to ,Here we are comparing 4 and 5 that both are equal or not.\n",
    "             a=4 Here we are assigning the value of 4 to a variable called a.\n",
    "         "
   ]
  },
  {
   "cell_type": "markdown",
   "id": "27e06f71",
   "metadata": {},
   "source": [
    "7. Identify the three blocks in this code:\n",
    "    \n",
    "Answer-: spam = 0\n",
    "         # First block of code\n",
    "         if spam == 10:\n",
    "             print('eggs)\n",
    "         # Second block of code\n",
    "         if spam >5:\n",
    "             print('bacon')\n",
    "         # Third block of code\n",
    "         else:\n",
    "             print('ham')\n",
    "             print('spam')\n",
    "             print('spam')"
   ]
  },
  {
   "cell_type": "markdown",
   "id": "c4a70c72",
   "metadata": {},
   "source": [
    "8. Write code that prints Hello if 1 is stored in spam, prints Howdy if 2 is stored in spam, and prints\n",
    "Greetings! if anything else is stored in spam.\n",
    "\n",
    "Answer-: if spam==1:\n",
    "             print('Hello')\n",
    "         if spam==2:\n",
    "             print('Howdy')\n",
    "         else:\n",
    "             print('Greetings!')"
   ]
  },
  {
   "cell_type": "markdown",
   "id": "be2a0813",
   "metadata": {},
   "source": [
    "9.If your programme is stuck in an endless loop, what keys you’ll press?\n",
    "\n",
    "Answer-:Ctrl+C"
   ]
  },
  {
   "cell_type": "markdown",
   "id": "710951a7",
   "metadata": {},
   "source": [
    "10. How can you tell the difference between break and continue?\n",
    "\n",
    "Answer-: Break statement is use to terminate the loop when a specific condition met.It will stop the entire loop and execute            the other line of codes which is not in that loop.\n",
    "        \n",
    "         While The continue statement skips the remaining lines of code, for the current iteration of the loop. In this case,            the loop does not end, it continues with the next iteration."
   ]
  },
  {
   "cell_type": "markdown",
   "id": "f1963069",
   "metadata": {},
   "source": [
    "11. In a for loop, what is the difference between range(10), range(0, 10), and range(0, 10, 1)?\n",
    "\n",
    "Answer-:range(10) when we use for loop with this range function then our for loop start from 0 and goes till 9 because 10 is           excluded and with step size 1 which is default.In this we defined only the uper limit of the range function .\n",
    "        \n",
    "            \n",
    "        range(0,10) when we use this in for loop,then for loop start from 0 and end at 9 coz 10 is excluded while here we have         defined both the upper and lower limit of range function with default step size.\n",
    "        \n",
    "        range(0,10,1) when we use this in for loop then for loop start from 0 and end at 9 coz 10 is excluded here along with           upper and lower limit we have aslo defined the step size which is 1 in this example"
   ]
  },
  {
   "cell_type": "markdown",
   "id": "6b749499",
   "metadata": {},
   "source": [
    "12. Write a short program that prints the numbers 1 to 10 using a for loop. Then write an equivalent\n",
    "program that prints the numbers 1 to 10 using a while loop.\n",
    "\n",
    "\n",
    "Answer-:for i in range(1,11):\n",
    "            print(i)\n",
    "        \n",
    "        a=1\n",
    "        while a<11:\n",
    "            print(a)\n",
    "            a+=1\n"
   ]
  },
  {
   "cell_type": "markdown",
   "id": "a6a55b81",
   "metadata": {},
   "source": [
    "13. If you had a function named bacon() inside a module named spam, how would you call it after\n",
    "importing spam?\n",
    "\n",
    "Answer-: import spam as sm\n",
    "         sm.bacon()\n",
    "         \n",
    "         or\n",
    "         \n",
    "         import spam\n",
    "         spam.bacon()\n",
    "         "
   ]
  }
 ],
 "metadata": {
  "kernelspec": {
   "display_name": "Python 3 (ipykernel)",
   "language": "python",
   "name": "python3"
  },
  "language_info": {
   "codemirror_mode": {
    "name": "ipython",
    "version": 3
   },
   "file_extension": ".py",
   "mimetype": "text/x-python",
   "name": "python",
   "nbconvert_exporter": "python",
   "pygments_lexer": "ipython3",
   "version": "3.9.12"
  }
 },
 "nbformat": 4,
 "nbformat_minor": 5
}

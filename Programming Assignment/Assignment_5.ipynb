{
 "cells": [
  {
   "cell_type": "markdown",
   "id": "942116ca",
   "metadata": {},
   "source": [
    "### 1. Write a Python Program to Find LCM?"
   ]
  },
  {
   "cell_type": "code",
   "execution_count": 1,
   "id": "8e33e557",
   "metadata": {},
   "outputs": [],
   "source": [
    "def gcd(a, b):\n",
    "    if b == 0:\n",
    "        return a\n",
    "    return gcd(b, a % b)\n",
    "\n",
    "def lcm(a, b):\n",
    "    return (a * b) // gcd(a, b)"
   ]
  },
  {
   "cell_type": "code",
   "execution_count": 5,
   "id": "e7670155",
   "metadata": {},
   "outputs": [
    {
     "data": {
      "text/plain": [
       "10"
      ]
     },
     "execution_count": 5,
     "metadata": {},
     "output_type": "execute_result"
    }
   ],
   "source": [
    "lcm(10,5)"
   ]
  },
  {
   "cell_type": "markdown",
   "id": "812cceef",
   "metadata": {},
   "source": [
    "### 2. Write a Python Program to Find HCF?"
   ]
  },
  {
   "cell_type": "code",
   "execution_count": 6,
   "id": "bacd55ac",
   "metadata": {},
   "outputs": [],
   "source": [
    "def gcd(a, b):\n",
    "    if b == 0:\n",
    "        return a\n",
    "    return gcd(b, a % b)"
   ]
  },
  {
   "cell_type": "code",
   "execution_count": 8,
   "id": "067247a3",
   "metadata": {},
   "outputs": [
    {
     "data": {
      "text/plain": [
       "5"
      ]
     },
     "execution_count": 8,
     "metadata": {},
     "output_type": "execute_result"
    }
   ],
   "source": [
    "gcd(10,15)"
   ]
  },
  {
   "cell_type": "markdown",
   "id": "1ff6e46e",
   "metadata": {},
   "source": [
    "### 3. Write a Python Program to Convert Decimal to Binary, Octal and Hexadecimal?"
   ]
  },
  {
   "cell_type": "code",
   "execution_count": 11,
   "id": "b65cf9bf",
   "metadata": {},
   "outputs": [],
   "source": [
    "dec=100\n",
    "binary=bin(dec).replace(\"0b\", \"\")\n",
    "octal= oct(dec).replace(\"0o\", \"\")\n",
    "hexadecimal=hex(dec).replace(\"0x\", \"\")"
   ]
  },
  {
   "cell_type": "code",
   "execution_count": 12,
   "id": "38b48bcb",
   "metadata": {},
   "outputs": [
    {
     "name": "stdout",
     "output_type": "stream",
     "text": [
      "1100100 144 64\n"
     ]
    }
   ],
   "source": [
    "print(binary,octal,hexadecimal)"
   ]
  },
  {
   "cell_type": "markdown",
   "id": "a32b3351",
   "metadata": {},
   "source": [
    "### 4. Write a Python Program To Find ASCII value of a character?"
   ]
  },
  {
   "cell_type": "code",
   "execution_count": 16,
   "id": "d5855def",
   "metadata": {},
   "outputs": [],
   "source": [
    "def ascii_val(char):\n",
    "    return ord(char)"
   ]
  },
  {
   "cell_type": "code",
   "execution_count": 17,
   "id": "4dc74616",
   "metadata": {},
   "outputs": [
    {
     "data": {
      "text/plain": [
       "65"
      ]
     },
     "execution_count": 17,
     "metadata": {},
     "output_type": "execute_result"
    }
   ],
   "source": [
    "ascii_val('A')"
   ]
  },
  {
   "cell_type": "markdown",
   "id": "e866b575",
   "metadata": {},
   "source": [
    "### 5. Write a Python Program to Make a Simple Calculator with 4 basic mathematical operations?"
   ]
  },
  {
   "cell_type": "code",
   "execution_count": 18,
   "id": "47bb6efd",
   "metadata": {},
   "outputs": [],
   "source": [
    "def calculator(num1,num2):\n",
    "    operator = input(\"Enter operator (+, -, *, /): \")\n",
    "\n",
    "    # Perform the operation and print the result\n",
    "    if operator == '+':\n",
    "        print(\"Result: \", num1 + num2)\n",
    "    elif operator == '-':\n",
    "        print(\"Result: \", num1 - num2)\n",
    "    elif operator == '*':\n",
    "        print(\"Result: \", num1 * num2)\n",
    "    elif operator == '/':\n",
    "        print(\"Result: \", num1 / num2)\n",
    "    else:\n",
    "        print(\"Invalid operator!\")\n"
   ]
  }
 ],
 "metadata": {
  "kernelspec": {
   "display_name": "Python 3 (ipykernel)",
   "language": "python",
   "name": "python3"
  },
  "language_info": {
   "codemirror_mode": {
    "name": "ipython",
    "version": 3
   },
   "file_extension": ".py",
   "mimetype": "text/x-python",
   "name": "python",
   "nbconvert_exporter": "python",
   "pygments_lexer": "ipython3",
   "version": "3.9.12"
  }
 },
 "nbformat": 4,
 "nbformat_minor": 5
}

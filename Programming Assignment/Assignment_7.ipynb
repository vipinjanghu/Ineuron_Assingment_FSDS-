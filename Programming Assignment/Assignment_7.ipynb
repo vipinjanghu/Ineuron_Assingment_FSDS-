{
 "cells": [
  {
   "cell_type": "markdown",
   "id": "1e1a595b",
   "metadata": {},
   "source": [
    "### 1. Write a Python Program to find sum of array?"
   ]
  },
  {
   "cell_type": "code",
   "execution_count": 1,
   "id": "ee290920",
   "metadata": {},
   "outputs": [],
   "source": [
    "def sum_of_array(arr):\n",
    "    sum = 0\n",
    "    for element in arr:\n",
    "        sum += element\n",
    "    return sum"
   ]
  },
  {
   "cell_type": "markdown",
   "id": "54577a27",
   "metadata": {},
   "source": [
    "### 2. Write a Python Program to find largest element in an array?"
   ]
  },
  {
   "cell_type": "code",
   "execution_count": 2,
   "id": "75e6178b",
   "metadata": {},
   "outputs": [],
   "source": [
    "def largest_element(arr):\n",
    "    largest = arr[0]\n",
    "    for element in arr:\n",
    "        if element > largest:\n",
    "            largest = element\n",
    "    return largest"
   ]
  },
  {
   "cell_type": "markdown",
   "id": "5db22ee2",
   "metadata": {},
   "source": [
    "### 3. Write a Python Program for array rotation?"
   ]
  },
  {
   "cell_type": "code",
   "execution_count": 3,
   "id": "970603db",
   "metadata": {},
   "outputs": [],
   "source": [
    "def rotate_array(arr, d):\n",
    "    rotated_part = arr[:d]\n",
    "    for i in range(d, len(arr)):\n",
    "        arr[i-d] = arr[i]\n",
    "    for i in range(len(arr) - d, len(arr)):\n",
    "        arr[i] = rotated_part[i - len(arr) + d]\n",
    "    return"
   ]
  },
  {
   "cell_type": "markdown",
   "id": "ff568717",
   "metadata": {},
   "source": [
    "### 4. Write a Python Program to Split the array and add the first part to the end?"
   ]
  },
  {
   "cell_type": "code",
   "execution_count": 4,
   "id": "394ac323",
   "metadata": {},
   "outputs": [],
   "source": [
    "def split_and_add(arr, k):\n",
    "    first_part = arr[:k]\n",
    "    second_part = arr[k:]\n",
    "    result = second_part + first_part\n",
    "    return result"
   ]
  },
  {
   "cell_type": "markdown",
   "id": "15bb95ab",
   "metadata": {},
   "source": [
    "### 5. Write a Python Program to check if given array is Monotonic?"
   ]
  },
  {
   "cell_type": "code",
   "execution_count": 5,
   "id": "ad565855",
   "metadata": {},
   "outputs": [],
   "source": [
    "def is_monotonic(arr):\n",
    "\n",
    "    increasing = (arr[1] > arr[0])\n",
    "    decreasing = (arr[1] < arr[0])\n",
    "    for i in range(1, len(arr) - 1):\n",
    "        if increasing and arr[i+1] < arr[i]:\n",
    "            return False\n",
    "        if decreasing and arr[i+1] > arr[i]:\n",
    "            return False\n",
    "    return True"
   ]
  }
 ],
 "metadata": {
  "kernelspec": {
   "display_name": "Python 3 (ipykernel)",
   "language": "python",
   "name": "python3"
  },
  "language_info": {
   "codemirror_mode": {
    "name": "ipython",
    "version": 3
   },
   "file_extension": ".py",
   "mimetype": "text/x-python",
   "name": "python",
   "nbconvert_exporter": "python",
   "pygments_lexer": "ipython3",
   "version": "3.9.12"
  }
 },
 "nbformat": 4,
 "nbformat_minor": 5
}

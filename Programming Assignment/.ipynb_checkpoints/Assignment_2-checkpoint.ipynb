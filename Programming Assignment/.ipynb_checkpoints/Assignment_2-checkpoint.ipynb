{
 "cells": [
  {
   "cell_type": "markdown",
   "id": "e2655456",
   "metadata": {},
   "source": [
    "### 1. Write a Python program to convert kilometers to miles?"
   ]
  },
  {
   "cell_type": "code",
   "execution_count": 1,
   "id": "41eb0172",
   "metadata": {},
   "outputs": [],
   "source": [
    "def km_to_mile(km):\n",
    "    mile=km*0.6214\n",
    "    return mile"
   ]
  },
  {
   "cell_type": "markdown",
   "id": "4a5c729a",
   "metadata": {},
   "source": [
    "### 2. Write a Python program to convert Celsius to Fahrenheit?"
   ]
  },
  {
   "cell_type": "code",
   "execution_count": 4,
   "id": "ee9d17ea",
   "metadata": {},
   "outputs": [],
   "source": [
    "def cel_fah(celsius):\n",
    "    fahr=(celsius*9/5)+32\n",
    "    return fahr"
   ]
  },
  {
   "cell_type": "markdown",
   "id": "4ec39606",
   "metadata": {},
   "source": [
    "### 3. Write a Python program to display calendar?"
   ]
  },
  {
   "cell_type": "code",
   "execution_count": 11,
   "id": "6ee54247",
   "metadata": {},
   "outputs": [
    {
     "name": "stdout",
     "output_type": "stream",
     "text": [
      "    January 2023\n",
      "Mo Tu We Th Fr Sa Su\n",
      "                   1\n",
      " 2  3  4  5  6  7  8\n",
      " 9 10 11 12 13 14 15\n",
      "16 17 18 19 20 21 22\n",
      "23 24 25 26 27 28 29\n",
      "30 31\n",
      "\n"
     ]
    }
   ],
   "source": [
    "import calendar\n",
    "def cal(year,month):\n",
    "    print(calendar.month(year,month))\n",
    "cal(2023,1)"
   ]
  },
  {
   "cell_type": "markdown",
   "id": "d03398bb",
   "metadata": {},
   "source": [
    "### 4. Write a Python program to solve quadratic equation?"
   ]
  },
  {
   "cell_type": "code",
   "execution_count": 12,
   "id": "4a7489f8",
   "metadata": {},
   "outputs": [],
   "source": [
    "import math\n",
    "def quadratic_equation(a, b, c):\n",
    "    delta = b**2 - 4*a*c\n",
    "    if delta > 0:\n",
    "        x1 = (-b + math.sqrt(delta)) / (2 * a)\n",
    "        x2 = (-b - math.sqrt(delta)) / (2 * a)\n",
    "        return x1, x2\n",
    "    elif delta == 0:\n",
    "        x = -b / (2 * a)\n",
    "        return x\n",
    "    else:\n",
    "        return \"The equation has no real solution.\"   "
   ]
  },
  {
   "cell_type": "code",
   "execution_count": 16,
   "id": "6a67ff3d",
   "metadata": {},
   "outputs": [
    {
     "data": {
      "text/plain": [
       "(3.0, 2.0)"
      ]
     },
     "execution_count": 16,
     "metadata": {},
     "output_type": "execute_result"
    }
   ],
   "source": [
    "quadratic_equation(1,-5,6)"
   ]
  },
  {
   "cell_type": "markdown",
   "id": "cb6eb1b6",
   "metadata": {},
   "source": [
    "### 5. Write a Python program to swap two variables without temp variable?"
   ]
  },
  {
   "cell_type": "code",
   "execution_count": 17,
   "id": "200040b9",
   "metadata": {},
   "outputs": [],
   "source": [
    "def swap_variables_without_temp(a, b):\n",
    "    a = a + b\n",
    "    b = a - b\n",
    "    a = a - b\n",
    "    return a, b"
   ]
  },
  {
   "cell_type": "code",
   "execution_count": 18,
   "id": "11e42ff6",
   "metadata": {},
   "outputs": [
    {
     "data": {
      "text/plain": [
       "(4, 5)"
      ]
     },
     "execution_count": 18,
     "metadata": {},
     "output_type": "execute_result"
    }
   ],
   "source": [
    "swap_variables_without_temp(5,4)"
   ]
  }
 ],
 "metadata": {
  "kernelspec": {
   "display_name": "Python 3 (ipykernel)",
   "language": "python",
   "name": "python3"
  },
  "language_info": {
   "codemirror_mode": {
    "name": "ipython",
    "version": 3
   },
   "file_extension": ".py",
   "mimetype": "text/x-python",
   "name": "python",
   "nbconvert_exporter": "python",
   "pygments_lexer": "ipython3",
   "version": "3.9.12"
  }
 },
 "nbformat": 4,
 "nbformat_minor": 5
}

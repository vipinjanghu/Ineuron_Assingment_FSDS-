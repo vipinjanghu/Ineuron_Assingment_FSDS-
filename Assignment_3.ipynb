{
 "cells": [
  {
   "cell_type": "raw",
   "id": "e8b38c6f",
   "metadata": {},
   "source": [
    "1. Why are functions advantageous to have in your programs?\n",
    "\n",
    "Answer-: With the help of a function we can avoid rewriting the same logic code again and again in a program.We can call a              function multiple times insteed of writing the same logic of code multiple time.We can track a large Python program            easily when it is divided into multiple functions.The main achievement of Python functions is its Reusability."
   ]
  },
  {
   "cell_type": "raw",
   "id": "b3479f88",
   "metadata": {},
   "source": [
    "2. When does the code in a function run: when it's specified or when it's called?\n",
    "\n",
    "Answer-:When the function is called it will execute the code of that function not when its was defined."
   ]
  },
  {
   "cell_type": "raw",
   "id": "6ff4a499",
   "metadata": {},
   "source": [
    "3. What statement creates a function?\n",
    "\n",
    "Answer-: def is the key word reserve for creating a function in python."
   ]
  },
  {
   "cell_type": "raw",
   "id": "98c55303",
   "metadata": {},
   "source": [
    "4. What is the difference between a function and a function call?\n",
    "\n",
    "Answer-:When the funcyion is defined python interpreter only check the syntex of the code.\n",
    "        and when we call that function python interpreter will execute the whole block of code inside that specific function."
   ]
  },
  {
   "cell_type": "raw",
   "id": "394f9621",
   "metadata": {},
   "source": [
    "5. How many global scopes are there in a Python program? How many local scopes?\n",
    "\n",
    "Answer-:There is one global scope, and a local scope is created whenever a function is called."
   ]
  },
  {
   "cell_type": "raw",
   "id": "9f6c9e54",
   "metadata": {},
   "source": [
    "6. What happens to variables in a local scope when the function call returns?\n",
    "\n",
    "Answer-:Each call of the function creates new local variables, and their lifetimes expire when the function returns \n",
    "        to the caller."
   ]
  },
  {
   "cell_type": "raw",
   "id": "4c3faf0c",
   "metadata": {},
   "source": [
    "7. What is the concept of a return value? Is it possible to have a return value in an expression?\n",
    "\n",
    "Answer-:A return value is the value that a function call evaluates to. Like any value, a return value can be used as part of an         expression."
   ]
  },
  {
   "cell_type": "raw",
   "id": "a05e7360",
   "metadata": {},
   "source": [
    "8. If a function does not have a return statement, what is the return value of a call to that function?\n",
    "\n",
    "Answer-:If there is no return ststement in a function then it will return nothing"
   ]
  },
  {
   "cell_type": "raw",
   "id": "1eff5bd8",
   "metadata": {},
   "source": [
    "9. How do you make a function variable refer to the global variable?\n",
    "\n",
    "Answer-:To create a global variable inside a function, we can use the global keyword.\n",
    "        e.g. def add(x,y)\n",
    "                 global z\n",
    "                 z=x+y"
   ]
  },
  {
   "cell_type": "raw",
   "id": "635ac25d",
   "metadata": {},
   "source": [
    "10. What is the data type of None?\n",
    "\n",
    "Answer-:Nonetype"
   ]
  },
  {
   "cell_type": "raw",
   "id": "9f3ef825",
   "metadata": {},
   "source": [
    "11. What does the sentence import areallyourpetsnamederic do?\n",
    "\n",
    "Answer-:It will import the module name with areallyourpetsnamederic"
   ]
  },
  {
   "cell_type": "raw",
   "id": "3f765786",
   "metadata": {},
   "source": [
    "12. If you had a bacon() feature in a spam module, what would you call it after importing spam?\n",
    "\n",
    "Answer-: spam.bacon() after importing the spam module."
   ]
  },
  {
   "cell_type": "raw",
   "id": "c911b156",
   "metadata": {},
   "source": [
    "13. What can you do to save a programme from crashing if it encounters an error?\n",
    "\n",
    "Answer-:We will place the line or block of code which may cause an error in side try block."
   ]
  },
  {
   "cell_type": "raw",
   "id": "60ae82dc",
   "metadata": {},
   "source": [
    "14. What is the purpose of the try clause? What is the purpose of the except clause?\n",
    "\n",
    "Answer-:When any line of code get an exception inside a try block.Because of that exception our program won't stop .\n",
    "        Then our program execute the except block of code and its keep on runing.\n",
    "        try and except are like if and else .In try we first give a try to excecute the lines of code if we got any \n",
    "        exception then we move to except otherwise python will execute the lines of code that came after except block.  "
   ]
  }
 ],
 "metadata": {
  "kernelspec": {
   "display_name": "Python 3 (ipykernel)",
   "language": "python",
   "name": "python3"
  },
  "language_info": {
   "codemirror_mode": {
    "name": "ipython",
    "version": 3
   },
   "file_extension": ".py",
   "mimetype": "text/x-python",
   "name": "python",
   "nbconvert_exporter": "python",
   "pygments_lexer": "ipython3",
   "version": "3.9.12"
  }
 },
 "nbformat": 4,
 "nbformat_minor": 5
}

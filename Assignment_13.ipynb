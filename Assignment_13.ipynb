{
 "cells": [
  {
   "cell_type": "markdown",
   "id": "d2b6ed99",
   "metadata": {},
   "source": [
    "### 1. What advantages do Excel spreadsheets have over CSV spreadsheets?\n",
    "* Formatting and styling: Excel allows us to format and style cells in a variety of ways, whereas CSV files are plain text files with no styling or formatting options.\n",
    "\n",
    "* Complex calculations: Excel provides a range of functions and formulas for performing complex calculations, which can be challenging to achieve with CSV files.\n",
    "\n",
    "* Interactivity: Excel provides a graphical user interface that allows us to interact with the data in a spreadsheet. With CSV files, we need to write code to interact with the data.\n",
    "\n",
    "* Easier data manipulation: Excel provides features such as sorting, filtering, and pivot tables for manipulating data, which can be more difficult to achieve with CSV files."
   ]
  },
  {
   "cell_type": "markdown",
   "id": "c10484e6",
   "metadata": {},
   "source": [
    "### 2.What do you pass to csv.reader() and csv.writer() to create reader and writer objects?"
   ]
  },
  {
   "cell_type": "code",
   "execution_count": null,
   "id": "72958788",
   "metadata": {},
   "outputs": [],
   "source": [
    "import csv\n",
    "file=open('XYZ.csv')\n",
    "csv.reader(file)\n",
    "csv.writer(file)"
   ]
  },
  {
   "cell_type": "markdown",
   "id": "ad814961",
   "metadata": {},
   "source": [
    "### 3. What modes do File objects for reader and writer objects need to be opened in?\n",
    "'r' for reading or 'w' for writing"
   ]
  },
  {
   "cell_type": "markdown",
   "id": "53a0de43",
   "metadata": {},
   "source": [
    "### 4. What method takes a list argument and writes it to a CSV file?\n",
    "The writerow() method takes a list argument and writes it to a CSV file. It is part of the csv.writer object, which is created by calling csv.writer(file_object) where file_object is an open file in write mode."
   ]
  },
  {
   "cell_type": "markdown",
   "id": "3c3da8ee",
   "metadata": {},
   "source": [
    "### 5. What do the keyword arguments delimiter and line terminator do?\n",
    "The keyword argument 'delimiter' specifies the character that separates fields in a CSV file. By default, it is set to a comma, but it can be set to another character such as a tab or semi-colon. The keyword argument 'line terminator' specifies the character that separates rows in a CSV file. The default line terminator is a newline character, but it can be set to a different value such as a carriage return."
   ]
  },
  {
   "cell_type": "markdown",
   "id": "de029a38",
   "metadata": {},
   "source": [
    "### 6. What function takes a string of JSON data and returns a Python data structure?\n",
    "The json.loads() function takes a string of JSON data and returns a Python data structure (usually a dictionary or list)."
   ]
  },
  {
   "cell_type": "markdown",
   "id": "31d02db1",
   "metadata": {},
   "source": [
    "### 7. What function takes a Python data structure and returns a string of JSON data?\n",
    "The json.dumps function takes a Python data structure and returns a string of JSON data."
   ]
  }
 ],
 "metadata": {
  "kernelspec": {
   "display_name": "Python 3 (ipykernel)",
   "language": "python",
   "name": "python3"
  },
  "language_info": {
   "codemirror_mode": {
    "name": "ipython",
    "version": 3
   },
   "file_extension": ".py",
   "mimetype": "text/x-python",
   "name": "python",
   "nbconvert_exporter": "python",
   "pygments_lexer": "ipython3",
   "version": "3.9.12"
  }
 },
 "nbformat": 4,
 "nbformat_minor": 5
}

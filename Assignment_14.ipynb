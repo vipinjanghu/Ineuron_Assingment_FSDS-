{
 "cells": [
  {
   "cell_type": "markdown",
   "id": "6027c634",
   "metadata": {},
   "source": [
    "### 1. What does RGBA stand for?\n",
    "RGBA stands for Red, Green, Blue, Alpha."
   ]
  },
  {
   "cell_type": "markdown",
   "id": "04f0bc74",
   "metadata": {},
   "source": [
    "### 2. From the Pillow module, how do you get the RGBA value of any images?"
   ]
  },
  {
   "cell_type": "code",
   "execution_count": null,
   "id": "ef3e90df",
   "metadata": {},
   "outputs": [],
   "source": [
    "from PIL import Image\n",
    "\n",
    "img = Image.open(\"image.png\")\n",
    "r, g, b, a = img.getpixel((0,0))\n",
    "print(r, g, b, a)"
   ]
  },
  {
   "cell_type": "markdown",
   "id": "3f7f3dde",
   "metadata": {},
   "source": [
    "### 3. What is a box tuple, and how does it work?\n",
    "A box tuple is a 4-element tuple that defines the location and size of a rectangular region in an image. The four elements of the tuple are the coordinates of the left, upper, right, and lower pixel of the rectangle."
   ]
  },
  {
   "cell_type": "markdown",
   "id": "dc5c4a75",
   "metadata": {},
   "source": [
    "### 4. Use your image and load in notebook then, How can you find out the width and height of an Image object?"
   ]
  },
  {
   "cell_type": "code",
   "execution_count": null,
   "id": "12fc813c",
   "metadata": {},
   "outputs": [],
   "source": [
    "from PIL import Image\n",
    "\n",
    "image = Image.open(\"example.jpg\")\n",
    "width, height = image.size\n",
    "print(\"Width:\", width)\n",
    "print(\"Height:\", height)"
   ]
  },
  {
   "cell_type": "markdown",
   "id": "0ae5a0fd",
   "metadata": {},
   "source": [
    "### 5. What method would you call to get Image object for a 100×100 image, excluding the lower-left quarter of it?\n",
    "ImageObject.crop((0, 50, 50, 50))"
   ]
  },
  {
   "cell_type": "markdown",
   "id": "412e6871",
   "metadata": {},
   "source": [
    "### 6. After making changes to an Image object, how could you save it as an image file?\n",
    "img.save(\"modified_image.png\", \"PNG\")"
   ]
  },
  {
   "cell_type": "markdown",
   "id": "defa991d",
   "metadata": {},
   "source": [
    "### 7. What module contains Pillow’s shape-drawing code?\n",
    "The module that contains Pillow's shape-drawing code is the ImageDraw module."
   ]
  },
  {
   "cell_type": "markdown",
   "id": "b6f929ac",
   "metadata": {},
   "source": [
    "### 8. Image objects do not have drawing methods. What kind of object does? How do you get this kind of object?\n",
    "ImageDraw objects have shape-drawing methods such as point(), line(), or rectangle(). They are returned by passing the Image object to the ImageDraw.Draw() function"
   ]
  }
 ],
 "metadata": {
  "kernelspec": {
   "display_name": "Python 3 (ipykernel)",
   "language": "python",
   "name": "python3"
  },
  "language_info": {
   "codemirror_mode": {
    "name": "ipython",
    "version": 3
   },
   "file_extension": ".py",
   "mimetype": "text/x-python",
   "name": "python",
   "nbconvert_exporter": "python",
   "pygments_lexer": "ipython3",
   "version": "3.9.12"
  }
 },
 "nbformat": 4,
 "nbformat_minor": 5
}

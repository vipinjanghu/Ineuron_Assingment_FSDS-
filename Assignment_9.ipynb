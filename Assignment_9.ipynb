{
 "cells": [
  {
   "cell_type": "markdown",
   "id": "7d98ee05",
   "metadata": {},
   "source": [
    "1. To what does a relative path refer?\n",
    "\n",
    "Answer-:A relative path in Python is a path that describes the location of a directory relative to the entry point where we run the Python script."
   ]
  },
  {
   "cell_type": "markdown",
   "id": "f976a259",
   "metadata": {},
   "source": [
    "2. What does an absolute path start with your operating system?\n",
    "\n",
    "Answer-:\"C:\\\""
   ]
  },
  {
   "cell_type": "markdown",
   "id": "e3ffd267",
   "metadata": {},
   "source": [
    "3. What do the functions os.getcwd() and os.chdir() do?\n",
    "\n",
    "Answer-:os.getcwd() it will return the current working directory while os.chdir() is used to change the current working directory to a specific path.  "
   ]
  },
  {
   "cell_type": "markdown",
   "id": "ecaa3f1d",
   "metadata": {},
   "source": [
    "4. What are the . and .. folders?\n",
    "\n",
    "Answer-:which translate into the current directory and the parent directory. Double dots are used for moving up in the hierarchy. A single dot represents the current directory itself."
   ]
  },
  {
   "cell_type": "markdown",
   "id": "77c32929",
   "metadata": {},
   "source": [
    "5. In C:\\bacon\\eggs\\spam.txt, which part is the dir name, and which part is the base name?\n",
    "    \n",
    "Answer-:spam.txt"
   ]
  },
  {
   "cell_type": "code",
   "execution_count": 3,
   "id": "4e673816",
   "metadata": {},
   "outputs": [
    {
     "data": {
      "text/plain": [
       "'spam.txt'"
      ]
     },
     "execution_count": 3,
     "metadata": {},
     "output_type": "execute_result"
    }
   ],
   "source": [
    "path=\"C:\\bacon\\eggs\\spam.txt\"\n",
    "os.path.basename(path)"
   ]
  },
  {
   "cell_type": "markdown",
   "id": "f0f0f4ba",
   "metadata": {},
   "source": [
    "6. What are the three “mode” arguments that can be passed to the open() function?\n",
    "\n",
    "Answer-:The string 'r' for read mode, 'w' for write mode, and 'a' for append mode"
   ]
  },
  {
   "cell_type": "markdown",
   "id": "5363d734",
   "metadata": {},
   "source": [
    "7. What happens if an existing file is opened in write mode?\n",
    "\n",
    "Answer-:An existing file opened in write mode is erased and completely overwritten."
   ]
  },
  {
   "cell_type": "markdown",
   "id": "3055b693",
   "metadata": {},
   "source": [
    "8. How do you tell the difference between read() and readlines()?\n",
    "\n",
    "Answer-:The read() method returns the file's entire contents as a single string value. The readlines() method returns a list of strings, where each string is a line from the file's contents."
   ]
  },
  {
   "cell_type": "markdown",
   "id": "0236f583",
   "metadata": {},
   "source": [
    "9. What data structure does a shelf value resemble?\n",
    "\n",
    "Answer-:A shelf value resembles a dictionary value; it has keys and values, along with keys() and values() methods that work similarly to the dictionary methods of the same names."
   ]
  }
 ],
 "metadata": {
  "kernelspec": {
   "display_name": "Python 3 (ipykernel)",
   "language": "python",
   "name": "python3"
  },
  "language_info": {
   "codemirror_mode": {
    "name": "ipython",
    "version": 3
   },
   "file_extension": ".py",
   "mimetype": "text/x-python",
   "name": "python",
   "nbconvert_exporter": "python",
   "pygments_lexer": "ipython3",
   "version": "3.9.12"
  }
 },
 "nbformat": 4,
 "nbformat_minor": 5
}

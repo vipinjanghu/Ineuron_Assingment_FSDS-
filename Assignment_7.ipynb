{
 "cells": [
  {
   "cell_type": "markdown",
   "id": "394cc812",
   "metadata": {},
   "source": [
    "1. What is the name of the feature responsible for generating Regex objects?\n",
    "\n",
    "Answer-:re.compile(pattern) will generate a Regex object."
   ]
  },
  {
   "cell_type": "markdown",
   "id": "e7a6a7f9",
   "metadata": {},
   "source": [
    "2. Why do raw strings often appear in Regex objects?\n",
    "\n",
    "Answer-:Raw strings are used so that backslashes do not have to be escaped."
   ]
  },
  {
   "cell_type": "markdown",
   "id": "52a78700",
   "metadata": {},
   "source": [
    "3. What is the return value of the search() method?\n",
    "\n",
    "Answer-:Either a Match object containing the first occurrence of a regular expression, or None."
   ]
  },
  {
   "cell_type": "markdown",
   "id": "01f5a8a1",
   "metadata": {},
   "source": [
    "4. From a Match item, how do you get the actual strings that match the pattern?\n",
    "\n",
    "Answer-:The group() method returns strings of the matched text."
   ]
  },
  {
   "cell_type": "markdown",
   "id": "d2386291",
   "metadata": {},
   "source": [
    "5. In the regex which created from the r'(\\d\\d\\d)-(\\d\\d\\d-\\d\\d\\d\\d)' what does group zero cover?\n",
    "Group 2? Group 1?\n",
    "\n",
    "Answer-:Group 0 means the entire match.\n",
    "        Group 1 means the first set of parentheses.\n",
    "        Group 2 means the second set of parentheses."
   ]
  },
  {
   "cell_type": "markdown",
   "id": "7ead8d32",
   "metadata": {},
   "source": [
    "6. In standard expression syntax, parentheses and intervals have distinct meanings. How can you tell\n",
    "a regex that you want it to fit real parentheses and periods?\n",
    "\n",
    "Answer-:Periods and parentheses can be escaped with a backslash: \\., \\(, and \\)."
   ]
  },
  {
   "cell_type": "markdown",
   "id": "f81dec4b",
   "metadata": {},
   "source": [
    "7. The findall() method returns a string list or a list of string tuples. What causes it to return one of\n",
    "the two options?\n",
    "\n",
    "Answer-:If you use grouping parentheses, (), in the regular expression it will return a list of tuples. If you don't use               groups, it will return a list of strings.\n"
   ]
  },
  {
   "cell_type": "markdown",
   "id": "67399c48",
   "metadata": {},
   "source": [
    "8. In standard expressions, what does the | character mean?\n",
    "\n",
    "Answer-:The | character signifies matching \"either, or\" between two groups."
   ]
  },
  {
   "cell_type": "markdown",
   "id": "5222958f",
   "metadata": {},
   "source": [
    "9. In regular expressions, what does the character stand for?\n",
    "\n",
    "Answer-:All characters, except those having special meaning in regex, matches themselves. "
   ]
  },
  {
   "cell_type": "markdown",
   "id": "bfc0f7ac",
   "metadata": {},
   "source": [
    "10.In regular expressions, what is the difference between the + and * characters?\n",
    "\n",
    "Answer-:+ means match one or more times. * means match 0 or more times."
   ]
  },
  {
   "cell_type": "markdown",
   "id": "3ce0d246",
   "metadata": {},
   "source": [
    "11. What is the difference between {4} and {4,5} in regular expression?\n",
    "\n",
    "Answer-:{3} means match exactly 3 times.\n",
    "{3,5} means match 3, 4, or 5 times"
   ]
  },
  {
   "cell_type": "markdown",
   "id": "b99534bb",
   "metadata": {},
   "source": [
    "12. What do you mean by the \\d, \\w, and \\s shorthand character classes signify in regular\n",
    "expressions?\n",
    "\n",
    "Answer-:\\d stands for a numeric digit.\n",
    "\\w stands for any letter, numeric digit, or the underscore character.\n",
    "\\s stands for any space, tab, or newline character"
   ]
  },
  {
   "cell_type": "markdown",
   "id": "d2276043",
   "metadata": {},
   "source": [
    "13. What do means by \\D, \\W, and \\S shorthand character classes signify in regular expressions?\n",
    "\n",
    "Answer-:\\D stands for any character that is not a numeric digit.\n",
    "\\W stands for any character that is not a letter, digit, or underscore.\n",
    "\\S stands for any character that is not a space, tab, or newline."
   ]
  },
  {
   "cell_type": "markdown",
   "id": "24881b7e",
   "metadata": {},
   "source": [
    "14. What is the difference between .* and .*?\n",
    "\n",
    "Answer-: .* uses greedy matching.\n",
    ".*? is the nongreedy version."
   ]
  },
  {
   "cell_type": "markdown",
   "id": "26c56f65",
   "metadata": {},
   "source": [
    "15. What is the syntax for matching both numbers and lowercase letters with a character class?\n",
    "\n",
    "Answer-:[0-9a-z]"
   ]
  },
  {
   "cell_type": "markdown",
   "id": "ff760377",
   "metadata": {},
   "source": [
    "16. What is the procedure for making a normal expression in regax case insensitive?\n",
    "\n",
    "Answer-:use the re.IGNORECASE (or re.I) argument in re.compile()"
   ]
  },
  {
   "cell_type": "markdown",
   "id": "de45f718",
   "metadata": {},
   "source": [
    "17. What does the . character normally match? What does it match if re.DOTALL is passed as 2nd\n",
    "argument in re.compile()?\n",
    "\n",
    "Answer-:The . character normally matches any character except the newline character. If re.DOTALL is passed as the second argument to re.compile(), then the dot will also match newline characters"
   ]
  },
  {
   "cell_type": "markdown",
   "id": "c820fc4f",
   "metadata": {},
   "source": [
    "18. If numRegex = re.compile(r'd+'), what will numRegex.sub('X','11 drummers, 10 pipers, five rings, 4 hen') return?\n",
    "\n",
    "Answer-:'X drummers, X pipers, five rings, X hens'\n",
    "        regex sub() function that returns a string after replacing the matched pattern in a string with a replacement.\n",
    "        So here it match with the digits and replacethem with X"
   ]
  },
  {
   "cell_type": "markdown",
   "id": "06ba2251",
   "metadata": {},
   "source": [
    "19. What does passing re.VERBOSE as the 2nd argument to re.compile() allow to do?\n",
    "\n",
    "Answer-:The re.VERBOSE argument allows you to add whitespace and comments to the string passed to re.compile()."
   ]
  },
  {
   "cell_type": "markdown",
   "id": "5969e8bf",
   "metadata": {},
   "source": [
    "20. How would you write a regex that match a number with comma for every three digits? It must\n",
    "match the given following:\n",
    "'42'\n",
    "'1,234'\n",
    "'6,368,745'\n",
    "but not the following:\n",
    "'12,34,567' (which has only two digits between the commas)\n",
    "'1234' (which lacks commas)\n",
    "    \n",
    "Answer-:r'^\\d{1,3}(,\\d{3})*$'"
   ]
  },
  {
   "cell_type": "markdown",
   "id": "fd1d5aca",
   "metadata": {},
   "source": [
    "21. How would you write a regex that matches the full name of someone whose last name is\n",
    "Watanabe? You can assume that the first name that comes before it will always be one word that\n",
    "begins with a capital letter. The regex must match the following:\n",
    "'Haruto Watanabe'\n",
    "'Alice Watanabe'\n",
    "'RoboCop Watanabe'\n",
    "but not the following:\n",
    "'haruto Watanabe' (where the first name is not capitalized)\n",
    "'Mr. Watanabe' (where the preceding word has a nonletter character)\n",
    "'Watanabe' (which has no first name)\n",
    "'Haruto watanabe' (where Watanabe is not capitalized)\n",
    "\n",
    "Answer-:re.compile(r'[a-z][A-Z]*\\sWatanabe')"
   ]
  },
  {
   "cell_type": "markdown",
   "id": "787d7e39",
   "metadata": {},
   "source": [
    "22. How would you write a regex that matches a sentence where the first word is either Alice, Bob,\n",
    "or Carol; the second word is either eats, pets, or throws; the third word is apples, cats, or baseballs;\n",
    "and the sentence ends with a period? This regex should be case-insensitive. It must match the\n",
    "following:\n",
    "    \n",
    "'Alice eats apples'\n",
    "'Bob pets cats'\n",
    "'Carol throws baseballs.'\n",
    "'Alice throws Apples.'\n",
    "'BOB EATS CATS.'\n",
    "but not the following:\n",
    "'RoboCop eats apples.'\n",
    "'ALICE THROWS FOOTBALLS.'\n",
    "'Carol eats 7 cats.'\n",
    "\n",
    "Answer-:re.comile(r'(Alice|Bob|Carol)(eats|pets|throws)(apples|cats|baseballs)\\.',re.IGNORECASE)"
   ]
  }
 ],
 "metadata": {
  "kernelspec": {
   "display_name": "Python 3 (ipykernel)",
   "language": "python",
   "name": "python3"
  },
  "language_info": {
   "codemirror_mode": {
    "name": "ipython",
    "version": 3
   },
   "file_extension": ".py",
   "mimetype": "text/x-python",
   "name": "python",
   "nbconvert_exporter": "python",
   "pygments_lexer": "ipython3",
   "version": "3.9.12"
  }
 },
 "nbformat": 4,
 "nbformat_minor": 5
}

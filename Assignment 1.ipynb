{
 "cells": [
  {
   "cell_type": "raw",
   "id": "6918cefd",
   "metadata": {},
   "source": [
    "1. In the below elements which of them are values or an expression? eg:- values can be\n",
    "integer or string and expressions will be mathematical operators.\n",
    "*\n",
    "'hello'\n",
    "-87.8\n",
    "-\n",
    "/\n",
    "+\n",
    "6\n",
    "\n",
    "Answer-:values='hello',-87.8,6\n",
    "        expression=*,-,/,+"
   ]
  },
  {
   "cell_type": "raw",
   "id": "dbffc217",
   "metadata": {},
   "source": [
    "2. What is the difference between string and variable?\n",
    "\n",
    "Answer-: Variable can store the information in form of values .variable can store the any data type e.g.interger,float string.\n",
    "         We can not assign white space between the characters of a variable name .\n",
    "         \n",
    "         String is a value that is inside quotes.Variable can hold a string but string can not hold a variable.\n",
    "         We can assign white space in a string."
   ]
  },
  {
   "cell_type": "raw",
   "id": "6c45b773",
   "metadata": {},
   "source": [
    "3. Describe three different data types.\n",
    "\n",
    "Answer-: Integer-is a whole number without decimals e.g. 1,2,10.In python we can convert any data type into integer\n",
    "                 using int() function.\n",
    "         \n",
    "         Float- is a number with decimals e.g.2.5,3.8.We can convert any data type to float using float() function.\n",
    "         \n",
    "         String-Any thing inside the quotes is called string,It can be Integer,float inside quotes.\n",
    "                E.g-\"vipin\",\"123\",\"0.25\".We can convert any data type to string using str() function.\n",
    "            \n",
    "        These are three buildin data types in python."
   ]
  },
  {
   "cell_type": "raw",
   "id": "623fb4b5",
   "metadata": {},
   "source": [
    "4. What is an expression made up of? What do all expressions do?\n",
    "\n",
    "Answer-:A construct that consists of variables, operators, and method calls and is built using the \n",
    "        language's syntax is known as an expression. An expression evaluates to a single value.\n",
    "        An expression evaluates to a value"
   ]
  },
  {
   "cell_type": "raw",
   "id": "ae245fcf",
   "metadata": {},
   "source": [
    "5. This assignment statements, like spam = 10. What is the difference between an\n",
    "expression and a statement?\n",
    "\n",
    "Answer-:Every statement can be an expression.But every expression can’t be a statement.\n",
    "        A statement executes something but An expression evaluates to a value.\n",
    "        Execution of a statement may or may not produces or displays a result value, it only does whatever the statement says.\n",
    "        but Evaluation of an expression always Produces or returns a result value."
   ]
  },
  {
   "cell_type": "raw",
   "id": "c36daf03",
   "metadata": {},
   "source": [
    "6. After running the following code, what does the variable bacon contain?\n",
    "bacon = 22\n",
    "bacon + 1\n",
    "\n",
    "Answer-:After running this code bacon still contain 22 because we added 1 to bacon variable but \n",
    "        we did not assign the new value to the bacon variable that why it is still 22"
   ]
  },
  {
   "cell_type": "raw",
   "id": "4b8065e9",
   "metadata": {},
   "source": [
    "7. What should the values of the following two terms be?\n",
    "'spam'+'spamspam'\n",
    "'spam'*3\n",
    "\n",
    "Answer-: In the first statment we are doing concatation of two string \n",
    "         which will return 'spamspamspam' and in the second statment we are multiplying a string with it self by \n",
    "         three times which will be 'spamspamspam'."
   ]
  },
  {
   "cell_type": "raw",
   "id": "4e3e47d0",
   "metadata": {},
   "source": [
    "8. Why is eggs a valid variable name while 100 is invalid?\n",
    "\n",
    "Answer-:As per the variable name conventions a variable should be according to \n",
    "        A variable name must start with a letter or the underscore character\n",
    "        A variable name cannot start with a number\n",
    "        A variable name can only contain alpha-numeric characters and underscores (A-z, 0-9, and _ )\n",
    "        Variable names are case-sensitive (age, Age and AGE are three different variables)\n",
    "        \n",
    "        Thts why eggs is a valid variable name and 100 is invalid."
   ]
  },
  {
   "cell_type": "raw",
   "id": "b7a3d43b",
   "metadata": {},
   "source": [
    "9. What three functions can be used to get the integer, floating-point number, or string\n",
    "version of a value?\n",
    "\n",
    "Answer-: int() used to get a integer.\n",
    "         float() is used to get a float.\n",
    "         str() is used to get a string."
   ]
  },
  {
   "cell_type": "raw",
   "id": "67945128",
   "metadata": {},
   "source": [
    "10. Why does this expression cause an error? How can you fix it?\n",
    "'I have eaten'+99+'burritos.'\n",
    "\n",
    "Answer-: In this expression the cause is that we are using mix data types to get some value.\n",
    "         To solve that issue in this expression we have to change the data type of 99 from integer to string.\n",
    "         'I have eaten'+str(99)+'burritos.'"
   ]
  }
 ],
 "metadata": {
  "kernelspec": {
   "display_name": "Python 3 (ipykernel)",
   "language": "python",
   "name": "python3"
  },
  "language_info": {
   "codemirror_mode": {
    "name": "ipython",
    "version": 3
   },
   "file_extension": ".py",
   "mimetype": "text/x-python",
   "name": "python",
   "nbconvert_exporter": "python",
   "pygments_lexer": "ipython3",
   "version": "3.9.12"
  }
 },
 "nbformat": 4,
 "nbformat_minor": 5
}
